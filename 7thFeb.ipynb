{
 "cells": [
  {
   "cell_type": "code",
   "execution_count": 23,
   "id": "3e89f504-65f4-4897-8f0d-0779dbba740e",
   "metadata": {},
   "outputs": [
    {
     "name": "stdin",
     "output_type": "stream",
     "text": [
      "Enter password Aadkahjkas@123\n"
     ]
    },
    {
     "name": "stdout",
     "output_type": "stream",
     "text": [
      "Invalid Password\n",
      "\n",
      "Password Criteria\n",
      "\n",
      "1. The Password should contain at least two uppercase letters and at least two lowercase letters.\n",
      "\n",
      "2. The Password should contain at least a number and three special characters.\n",
      "\n",
      "3. The length of the password should be 10 characters long.\n"
     ]
    }
   ],
   "source": [
    "'''Q1. You are writing code for a company. The requirement of the company is that you create a python\n",
    "function that will check whether the password entered by the user is correct or not. The function should\n",
    "take the password as input and return the string “Valid Password” if the entered password follows the\n",
    "below-given password guidelines else it should return “Invalid Password”.\n",
    "Note: 1. The Password should contain at least two uppercase letters and at least two lowercase letters.\n",
    "2. The Password should contain at least a number and three special characters.\n",
    "3. The length of the password should be 10 characters long.'''\n",
    "\n",
    "pwd=input(\"Enter password\")\n",
    "upper=0\n",
    "lower=0\n",
    "number=0\n",
    "special=0\n",
    "length=len(pwd)\n",
    "if length>=10:\n",
    "    for char in pwd:\n",
    "        if (char.isupper()==True):\n",
    "            \n",
    "            upper+=1\n",
    "        elif(char.islower()==True):\n",
    "                lower+=1 \n",
    "        elif(char.isdigit()==True):\n",
    "            number+=1\n",
    "        else:\n",
    "            special+=1\n",
    "    if(lower>=2 and upper>=2 and number>=1 and special>=3):\n",
    "        print(\"Valid Password\")\n",
    "    else:\n",
    "        print('''Invalid Password\\n\\nPassword Criteria\\n\n",
    "1. The Password should contain at least two uppercase letters and at least two lowercase letters.\\n\n",
    "2. The Password should contain at least a number and three special characters.\\n\n",
    "3. The length of the password should be 10 characters long.''')\n",
    "    \n",
    "else:\n",
    "    print(\"Password is too short, Keep 10 characters minimum\")"
   ]
  },
  {
   "cell_type": "code",
   "execution_count": 41,
   "id": "53631024-8b58-403c-b544-a5548d0a56cc",
   "metadata": {},
   "outputs": [
    {
     "name": "stdin",
     "output_type": "stream",
     "text": [
      "Enter a string Anamika\n",
      "starting character: A\n"
     ]
    },
    {
     "name": "stdout",
     "output_type": "stream",
     "text": [
      "Whether Anamika  is starting with A : True\n"
     ]
    }
   ],
   "source": [
    "'''Q:2a) Check if the string starts with a particular letter'''\n",
    "\n",
    "string=input(\"Enter a string\")\n",
    "\n",
    "letter=input(\"starting character:\")[0]   #limiting input to single character only\n",
    "list=[]\n",
    "\n",
    "x = lambda a,b : True if(b==a[0]) else False\n",
    "print(\"Whether\",string,\" is starting with\",letter,\":\",x(string,letter))"
   ]
  },
  {
   "cell_type": "code",
   "execution_count": 49,
   "id": "5abaf432-4975-40f8-92b4-17178548cf30",
   "metadata": {},
   "outputs": [
    {
     "name": "stdin",
     "output_type": "stream",
     "text": [
      "Enter a String 123456\n"
     ]
    },
    {
     "name": "stdout",
     "output_type": "stream",
     "text": [
      "Is this numeric? True\n"
     ]
    }
   ],
   "source": [
    "'''Check if the string is numeric'''\n",
    "\n",
    "string=input(\"Enter a String\")\n",
    "isNumeric=lambda s : True if(s.isnumeric()==True) else False\n",
    "print(\"Is this numeric?\",isNumeric(string))"
   ]
  },
  {
   "cell_type": "code",
   "execution_count": 2,
   "id": "76782d03-6ac5-4939-8553-75fcffd739d4",
   "metadata": {},
   "outputs": [
    {
     "name": "stdout",
     "output_type": "stream",
     "text": [
      "Original List :\n",
      " [1, 2, 3, 4, 5, 6, 7, 8, 9, 10] \n",
      " \n",
      "Square of each element is\n"
     ]
    },
    {
     "data": {
      "text/plain": [
       "[1, 4, 9, 16, 25, 36, 49, 64, 81, 100]"
      ]
     },
     "execution_count": 2,
     "metadata": {},
     "output_type": "execute_result"
    }
   ],
   "source": [
    "'''Find square number of 1 to 10'''\n",
    "\n",
    "l=[1, 2, 3, 4, 5, 6, 7, 8, 9, 10]\n",
    "l1=list(map(lambda x:x**2,l))\n",
    "print(\"Original List :\\n\",l,\"\\n \\nSquare of each element is\")\n",
    "l1\n"
   ]
  },
  {
   "cell_type": "code",
   "execution_count": 4,
   "id": "c7723850-d11d-45b5-b4ae-75865f830b9d",
   "metadata": {},
   "outputs": [
    {
     "name": "stdout",
     "output_type": "stream",
     "text": [
      "Original List :\n",
      " [1, 2, 3, 4, 5, 6, 7, 8, 9, 10] \n",
      " \n",
      "Cube of each element is\n"
     ]
    },
    {
     "data": {
      "text/plain": [
       "[1, 8, 27, 64, 125, 216, 343, 512, 729, 1000]"
      ]
     },
     "execution_count": 4,
     "metadata": {},
     "output_type": "execute_result"
    }
   ],
   "source": [
    "'''Find cube number of 1 to 10'''\n",
    "\n",
    "l=[1, 2, 3, 4, 5, 6, 7, 8, 9, 10]\n",
    "l1=list(map(lambda x:x**3,l))\n",
    "print(\"Original List :\\n\",l,\"\\n \\nCube of each element is\")\n",
    "l1"
   ]
  },
  {
   "cell_type": "code",
   "execution_count": 7,
   "id": "fe1ff06d-5200-4545-bbec-aec22378d609",
   "metadata": {},
   "outputs": [
    {
     "name": "stdin",
     "output_type": "stream",
     "text": [
      "Enter a number 144\n"
     ]
    },
    {
     "name": "stdout",
     "output_type": "stream",
     "text": [
      "whether 144 is even? --> True\n"
     ]
    }
   ],
   "source": [
    "'''Check if a given number is even'''\n",
    "num=int(input(\"Enter a number\"))\n",
    "isEven=lambda n : True if(n%2==0) else False\n",
    "print(\"whether\",num,\"is even? -->\",isEven(num))"
   ]
  },
  {
   "cell_type": "code",
   "execution_count": 9,
   "id": "2b8babd8-c977-450e-8175-cee2f236ff4f",
   "metadata": {},
   "outputs": [
    {
     "name": "stdout",
     "output_type": "stream",
     "text": [
      "Original List of Integers :\n",
      " [1, 2, 3, 4, 5, 6, 7, 8, 9, 10] \n",
      " \n",
      "Odd numbers are\n",
      "[1, 3, 5, 7, 9]\n"
     ]
    }
   ],
   "source": [
    "'''Filter odd numbers from the given list.\n",
    "[1,2,3,4,5,6,7,8,9,10]'''\n",
    "\n",
    "l=[1,2,3,4,5,6,7,8,9,10]\n",
    "print(\"Original List of Integers :\\n\",l,\"\\n \\nOdd numbers are\")\n",
    "print(list(filter(lambda x:x%2==1,l)))"
   ]
  },
  {
   "cell_type": "code",
   "execution_count": 29,
   "id": "81744631-9e8e-4ec5-9355-11c422ea5c54",
   "metadata": {},
   "outputs": [
    {
     "name": "stdout",
     "output_type": "stream",
     "text": [
      "Original List of Integers :\n",
      " [1, 2, 3, 4, 5, 6, -1, -2, -3, -4, -5, 0] \n",
      " \n",
      "Positive numbers are\n",
      "[0, 1, 2, 3, 4, 5, 6]\n",
      "Negative numbers are\n",
      "[-5, -4, -3, -2, -1]\n"
     ]
    }
   ],
   "source": [
    "'''Sort a list of integers into positive and negative integers lists.\n",
    "[1,2,3,4,5,6,-1,-2,-3,-4,-5,0]'''\n",
    "l=[1,2,3,4,5,6,-1,-2,-3,-4,-5,0]\n",
    "print(\"Original List of Integers :\\n\",l,\"\\n \\nPositive numbers are\")\n",
    "print(list(sorted(filter(lambda x:x>=0,l))))\n",
    "print(\"Negative numbers are\")\n",
    "print(list(sorted(filter(lambda x:x<0,l))))"
   ]
  }
 ],
 "metadata": {
  "kernelspec": {
   "display_name": "Python 3 (ipykernel)",
   "language": "python",
   "name": "python3"
  },
  "language_info": {
   "codemirror_mode": {
    "name": "ipython",
    "version": 3
   },
   "file_extension": ".py",
   "mimetype": "text/x-python",
   "name": "python",
   "nbconvert_exporter": "python",
   "pygments_lexer": "ipython3",
   "version": "3.10.8"
  }
 },
 "nbformat": 4,
 "nbformat_minor": 5
}
