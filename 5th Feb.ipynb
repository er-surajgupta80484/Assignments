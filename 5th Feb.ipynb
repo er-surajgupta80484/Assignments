{
 "cells": [
  {
   "cell_type": "code",
   "execution_count": null,
   "id": "80d6a004-7a40-4f80-9773-4552436af7a0",
   "metadata": {},
   "outputs": [],
   "source": [
    "'''Q1. Explain Class and Object with respect to Object-Oriented Programming. Give a suitable example.\n",
    "\n",
    "Classes and objects are core elements of OOPs. One can consider Class as a blueprint and all the elements (variables and functions) defined in a class \n",
    "can be called by an object. \n",
    "To exemplify, we use print(), what is print(), it is a function right, and if there is a function then definitely there is going to be a class which \n",
    "takes arguments as an input which we pass through print function and return the same as an output. \n",
    "\n",
    "Technically, Classes are user-defined data types that act as the blueprint for individual objects, attributes and methods. \n",
    "Objects are instances of a class created with specifically defined data. Objects can correspond to real-world objects or an abstract entity.\n",
    "\n",
    "Few differences between classes and object:\n",
    "    Class is used as a template for declaring and creating the objects whereas an object is an instance of a class.\n",
    "When a class is created, no memory is allocated.\tObjects are allocated memory space whenever they are created.\n",
    "The class has to be declared first and only once.\tAn object is created many times as per requirement.\n",
    "A class can not be manipulated as they are not\n",
    "available in the memory.\t                        Objects can be manipulated.\n",
    "A class is a logical entity.                      \tAn object is a physical entity'''"
   ]
  },
  {
   "cell_type": "code",
   "execution_count": null,
   "id": "48b35ae8-33c8-4780-bb59-045b7bb9e983",
   "metadata": {},
   "outputs": [],
   "source": [
    "'''Q2. Name the four pillars of OOPs\n",
    "\n",
    "1. Inheritence\n",
    "2. Polymorphism\n",
    "3. Abstraction\n",
    "4. Encapsulation'''"
   ]
  },
  {
   "cell_type": "code",
   "execution_count": 3,
   "id": "53d54351-379c-4077-9f82-24bf327724f0",
   "metadata": {},
   "outputs": [],
   "source": [
    "'''Q3. Explain why the __init__() function is used. Give a suitable example.\n",
    "\n",
    "__init__(): It looks like a function but actually it is a constructor. Now what's constructor? Constructors are generally used for instantiating an \n",
    "object. The task of constructors is to initialize(assign values) to the data members of the class when an object of the class is created. \n",
    "\n",
    "In Python the __init__() method is called the constructor and is always called when an object is created. The __init__ method lets the class initialize \n",
    "the object’s attributes and serves no other purpose. It is only used within classes. '''\n",
    "\n",
    "class pwskills:\n",
    "    def __init__(self, name, course):\n",
    "        self.studentName=name\n",
    "        self.courseOpted=course\n",
    "    def return_values(self):\n",
    "        return self.studentName, self.courseOpted"
   ]
  },
  {
   "cell_type": "code",
   "execution_count": 18,
   "id": "b2862cf4-bbbd-46c5-891c-be0d722b791d",
   "metadata": {},
   "outputs": [
    {
     "name": "stdout",
     "output_type": "stream",
     "text": [
      "('Rahul', 'DS')\n",
      "Rahul\n",
      "DS\n",
      "\n",
      "2nd Object:\n",
      "('Suraj', 'Java')\n",
      "Suraj\n",
      "Java\n"
     ]
    }
   ],
   "source": [
    "obj1=pwskills('Rahul','DS')\n",
    "print(obj1.return_values())\n",
    "print(obj1.studentName)\n",
    "print(obj1.courseOpted)\n",
    "obj2=pwskills('Suraj','Java')\n",
    "print(\"\\n2nd Object:\")\n",
    "print(obj2.return_values())\n",
    "print(obj2.studentName)\n",
    "print(obj2.courseOpted)"
   ]
  },
  {
   "cell_type": "code",
   "execution_count": 20,
   "id": "d6c8a126-a373-4d33-87aa-ad1d6db6bdad",
   "metadata": {},
   "outputs": [
    {
     "data": {
      "text/plain": [
       "\"Q4. Why self is used in OOPs?\\nAns: In object-oriented programming, whenever we define methods for a class, we use self as the first parameter in each case. The self keyword is used \\nto represent an instance (object) of the given class. In Q3, the two objects obj1 and obj2 have their own name and course attributes. If there was\\nno self argument, the same class couldn't hold the information for both these objects.\\nHowever, since the class is just a blueprint, self allows access to the attributes and methods of each object in python. This allows each object to \\nhave its own attributes and methods. Thus, even long before creating these objects, we reference the objects as self while defining the class.\\nLastly, Self is parameter in Instance Method and user can use another parameter name in place of it. But it is advisable to use self because \\nit increases the readability of code, and it is also a good programming practice.\""
      ]
     },
     "execution_count": 20,
     "metadata": {},
     "output_type": "execute_result"
    }
   ],
   "source": [
    "'''Q4. Why self is used in OOPs?\n",
    "Ans: In object-oriented programming, whenever we define methods for a class, we use self as the first parameter in each case. The self keyword is used \n",
    "to represent an instance (object) of the given class. In Q3, the two objects obj1 and obj2 have their own name and course attributes. If there was\n",
    "no self argument, the same class couldn't hold the information for both these objects.\n",
    "However, since the class is just a blueprint, self allows access to the attributes and methods of each object in python. This allows each object to \n",
    "have its own attributes and methods. Thus, even long before creating these objects, we reference the objects as self while defining the class.\n",
    "Lastly, Self is parameter in Instance Method and user can use another parameter name in place of it. But it is advisable to use self because \n",
    "it increases the readability of code, and it is also a good programming practice.'''"
   ]
  },
  {
   "cell_type": "code",
   "execution_count": 23,
   "id": "64299f74-74a0-41f8-ad93-7d9fdc001f00",
   "metadata": {},
   "outputs": [
    {
     "name": "stdout",
     "output_type": "stream",
     "text": [
      "This function is in parent class.\n",
      "This function is in child class.\n"
     ]
    }
   ],
   "source": [
    "'''Q5. What is inheritance? Give an example for each type of inheritance.\n",
    "Ans: Inheritance is defined as the mechanism of inheriting the properties of the base class(parent class) to the child class. \n",
    "Types of Inheritence:\n",
    "1. Single Inheritance: \n",
    "    Single inheritance enables a derived class to inherit properties from a single parent class, thus enabling code reusability and the addition\n",
    "    of new features to existing code.\n",
    "    Example: '''\n",
    "# Python program to demonstrate single inheritance\n",
    " \n",
    "# Base class\n",
    "class Parent:\n",
    "    def func1(self):\n",
    "        print(\"This function is in parent class.\")\n",
    "        \n",
    "'''derived class'''\n",
    " \n",
    "class Child(Parent):\n",
    "    def func2(self):\n",
    "        print(\"This function is in child class.\")\n",
    " \n",
    " \n",
    "# Driver's code\n",
    "object = Child()\n",
    "object.func1()\n",
    "object.func2()\n"
   ]
  },
  {
   "cell_type": "code",
   "execution_count": 27,
   "id": "50787430-a4cc-45a2-b051-b5800c9f539b",
   "metadata": {},
   "outputs": [
    {
     "name": "stdout",
     "output_type": "stream",
     "text": [
      "Father : RAM\n",
      "Mother : SITA\n"
     ]
    }
   ],
   "source": [
    "#ython program to demonstrate multiple inheritance\n",
    " \n",
    "# Base class1\n",
    "class Mother:\n",
    "    mothername = \"\"\n",
    " \n",
    "    def mother(self):\n",
    "        print(self.mothername)\n",
    " \n",
    "''' Base class2'''\n",
    " \n",
    " \n",
    "class Father:\n",
    "    fathername = \"\"\n",
    " \n",
    "    def father(self):\n",
    "        print(self.fathername)\n",
    " \n",
    "'''Derived class'''\n",
    " \n",
    " \n",
    "class Son(Mother, Father):\n",
    "    def parents(self):\n",
    "        print(\"Father :\", self.fathername)\n",
    "        print(\"Mother :\", self.mothername)\n",
    " \n",
    " \n",
    "# Driver's code\n",
    "s1 = Son()\n",
    "s1.fathername = \"RAM\"\n",
    "s1.mothername = \"SITA\"\n",
    "s1.parents()"
   ]
  },
  {
   "cell_type": "code",
   "execution_count": 28,
   "id": "8dc4ca68-a3f3-4c56-ab33-02d9746bc383",
   "metadata": {},
   "outputs": [
    {
     "name": "stdout",
     "output_type": "stream",
     "text": [
      "Lal mani\n",
      "Grandfather name : Lal mani\n",
      "Father name : Rampal\n",
      "Son name : Prince\n"
     ]
    }
   ],
   "source": [
    "'''Multilevel Inheritance :\n",
    "In multilevel inheritance, features of the base class and the derived class are further inherited into the new derived class. This is similar to a \n",
    "relationship representing a child and a grandfather.\n",
    "Example:'''\n",
    "# Base class\n",
    " \n",
    " \n",
    "class Grandfather:\n",
    " \n",
    "    def __init__(self, grandfathername):\n",
    "        self.grandfathername = grandfathername\n",
    " \n",
    "# Intermediate class\n",
    " \n",
    " \n",
    "class Father(Grandfather):\n",
    "    def __init__(self, fathername, grandfathername):\n",
    "        self.fathername = fathername\n",
    " \n",
    "        # invoking constructor of Grandfather class\n",
    "        Grandfather.__init__(self, grandfathername)\n",
    " \n",
    "# Derived class\n",
    " \n",
    " \n",
    "class Son(Father):\n",
    "    def __init__(self, sonname, fathername, grandfathername):\n",
    "        self.sonname = sonname\n",
    " \n",
    "        # invoking constructor of Father class\n",
    "        Father.__init__(self, fathername, grandfathername)\n",
    " \n",
    "    def print_name(self):\n",
    "        print('Grandfather name :', self.grandfathername)\n",
    "        print(\"Father name :\", self.fathername)\n",
    "        print(\"Son name :\", self.sonname)\n",
    " \n",
    " \n",
    "#  Driver code\n",
    "s1 = Son('Prince', 'Rampal', 'Lal mani')\n",
    "print(s1.grandfathername)\n",
    "s1.print_name()"
   ]
  },
  {
   "cell_type": "code",
   "execution_count": 29,
   "id": "df801b84-659d-488a-90ef-6452c3428417",
   "metadata": {},
   "outputs": [
    {
     "name": "stdout",
     "output_type": "stream",
     "text": [
      "This function is in parent class.\n",
      "This function is in child 1.\n",
      "This function is in parent class.\n",
      "This function is in child 2.\n"
     ]
    }
   ],
   "source": [
    "'''Hierarchical Inheritance: \n",
    "When more than one derived class are created from a single base this type of inheritance is called hierarchical inheritance. \n",
    "In this program, we have a parent (base) class and two child (derived) classes.'''\n",
    "# Hierarchical inheritance\n",
    " \n",
    " \n",
    "# Base class\n",
    "class Parent:\n",
    "    def func1(self):\n",
    "        print(\"This function is in parent class.\")\n",
    " \n",
    "# Derived class1\n",
    " \n",
    " \n",
    "class Child1(Parent):\n",
    "    def func2(self):\n",
    "        print(\"This function is in child 1.\")\n",
    " \n",
    "# Derivied class2\n",
    " \n",
    " \n",
    "class Child2(Parent):\n",
    "    def func3(self):\n",
    "        print(\"This function is in child 2.\")\n",
    " \n",
    " \n",
    "# Driver's code\n",
    "object1 = Child1()\n",
    "object2 = Child2()\n",
    "object1.func1()\n",
    "object1.func2()\n",
    "object2.func1()\n",
    "object2.func3()"
   ]
  },
  {
   "cell_type": "code",
   "execution_count": 31,
   "id": "0bb09d37-34a6-49cf-ae64-ff42406faae2",
   "metadata": {},
   "outputs": [
    {
     "name": "stdout",
     "output_type": "stream",
     "text": [
      "This function is in school.\n",
      "This function is in student 1. \n"
      "This function is in school.\n",
      "This function is in student 2. \n"
     ]
    }
   ],
   "source": [
    "'''Hybrid Inheritance: \n",
    "Inheritance consisting of multiple types of inheritance is called hybrid inheritance'''\n",
    "class School:\n",
    "    def func1(self):\n",
    "        print(\"This function is in school.\")\n",
    " \n",
    " \n",
    "class Student1(School):\n",
    "    def func2(self):\n",
    "        print(\"This function is in student 1. \")\n",
    " \n",
    " \n",
    "class Student2(School):\n",
    "    def func3(self):\n",
    "        print(\"This function is in student 2.\")\n",
    " \n",
    " \n",
    "class Student3(Student1, School):\n",
    "    def func4(self):\n",
    "        print(\"This function is in student 3.\")\n",
    " \n",
    " \n",
    "# Driver's code\n",
    "object = Student3()\n",
    "object2= Student2()\n",
    "object.func1()\n",
    "object.func2()\n",
    "object2.func1()\n",
    "object2.func3()"
   ]
  }
 ],
 "metadata": {
  "kernelspec": {
   "display_name": "Python 3 (ipykernel)",
   "language": "python",
   "name": "python3"
  },
  "language_info": {
   "codemirror_mode": {
    "name": "ipython",
    "version": 3
   },
   "file_extension": ".py",
   "mimetype": "text/x-python",
   "name": "python",
   "nbconvert_exporter": "python",
   "pygments_lexer": "ipython3",
   "version": "3.10.8"
  }
 },
 "nbformat": 4,
 "nbformat_minor": 5
}
