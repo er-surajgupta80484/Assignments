{
 "cells": [
  {
   "cell_type": "code",
   "execution_count": 20,
   "id": "d430ad4b-22f9-4b30-a3bc-14aeca5e6ff2",
   "metadata": {},
   "outputs": [
    {
     "name": "stdout",
     "output_type": "stream",
     "text": [
      "The First 10 natural Numbers are :\n",
      "1\n",
      "2\n",
      "3\n",
      "4\n",
      "5\n",
      "6\n",
      "7\n",
      "8\n",
      "9\n",
      "10\n",
      "Sum of these numbers is 55\n",
      "Product of these numbers is 3628800\n"
     ]
    }
   ],
   "source": [
    " \"\"\"Write a python program to print the sum and product of the first 10 natural numbers using for\n",
    "and while loop\"\"\"\n",
    "    \n",
    "print(\"The First 10 natural Numbers are :\")\n",
    "sum = 0\n",
    "product =1\n",
    "for i in range (1,11):\n",
    "    print(i)\n",
    "    product = product*i\n",
    "    sum = sum+i\n",
    "print(\"Sum of these numbers is\", sum)\n",
    "print(\"Product of these numbers is\",product)"
   ]
  },
  {
   "cell_type": "code",
   "execution_count": 21,
   "id": "b5e1d652-7c8f-4269-b9c4-1457e66b5121",
   "metadata": {},
   "outputs": [
    {
     "name": "stdin",
     "output_type": "stream",
     "text": [
      "Enter how many units have been consumed this month 310\n"
     ]
    },
    {
     "name": "stdout",
     "output_type": "stream",
     "text": [
      "Total Bill to be paid is 2250.0\n"
     ]
    }
   ],
   "source": [
    "#Create a python program to compute the electricity bill for a household.\n",
    "#The per-unit charges in rupees are as follows: For the first 100 units, the user will be charged Rs. 4.5 per\n",
    "#unit, for the next 100 units, the user will be charged Rs. 6 per unit, and for the next 100 units, the user will\n",
    "#be charged Rs. 10 per unit, After 300 units and above the user will be charged Rs. 20 per unit.\n",
    "\n",
    "\n",
    "#You are required to take the units of electricity consumed in a month from the user as input.\n",
    "\n",
    "\n",
    "#Your program must pass this test case: when the unit of electricity consumed by the user in a month is\n",
    "#310, the total electricity bill should be 2250.\n",
    "\n",
    "units=int(input(\"Enter how many units have been consumed this month\"))\n",
    "bill = 0\n",
    "if(units<=100) :\n",
    "    bill = units*4.5\n",
    "elif(units>100 and units<=200) :\n",
    "    bill =(100*4.5) + (units-100)*6\n",
    "elif(units>200 and units <=300) :\n",
    "    bill = (100*4.5) + (100*6) + (units-200)*10\n",
    "elif(units>300) :\n",
    "    bill = (100*4.5) + (100*6) + (100*10) + (units-300)*20\n",
    "print(\"Total Bill to be paid is\",bill)\n",
    "\n"
   ]
  },
  {
   "cell_type": "code",
   "execution_count": 19,
   "id": "7e5b0e1f-5250-41be-b702-380feeddeecb",
   "metadata": {},
   "outputs": [
    {
     "name": "stdin",
     "output_type": "stream",
     "text": [
      "Table of which number you need please: 10\n"
     ]
    },
    {
     "name": "stdout",
     "output_type": "stream",
     "text": [
      "Table of  10  using while loop\n"
     ]
    },
    {
     "name": "stdin",
     "output_type": "stream",
     "text": [
      "Enter number of rows for the table 10\n"
     ]
    },
    {
     "name": "stdout",
     "output_type": "stream",
     "text": [
      "10\n",
      "10  X  1  =  10\n",
      "10  X  2  =  20\n",
      "10  X  3  =  30\n",
      "10  X  4  =  40\n",
      "10  X  5  =  50\n",
      "10  X  6  =  60\n",
      "10  X  7  =  70\n",
      "10  X  8  =  80\n",
      "10  X  9  =  90\n",
      "10  X  10  =  100\n",
      "****************************\n",
      "Lets Try with For Loop Now\n"
     ]
    },
    {
     "name": "stdin",
     "output_type": "stream",
     "text": [
      "Table of which number you need please: 10\n"
     ]
    },
    {
     "name": "stdout",
     "output_type": "stream",
     "text": [
      "Table of  10  using while loop\n"
     ]
    },
    {
     "name": "stdin",
     "output_type": "stream",
     "text": [
      "Enter number of rows for the table 10\n"
     ]
    },
    {
     "name": "stdout",
     "output_type": "stream",
     "text": [
      "10  X  1  =  10\n",
      "10  X  2  =  20\n",
      "10  X  3  =  30\n",
      "10  X  4  =  40\n",
      "10  X  5  =  50\n",
      "10  X  6  =  60\n",
      "10  X  7  =  70\n",
      "10  X  8  =  80\n",
      "10  X  9  =  90\n",
      "10  X  10  =  100\n"
     ]
    }
   ],
   "source": [
    "# Explain with an example each when to use a for loop and a while loop\n",
    "t=int(input(\"Table of which number you need please:\"))\n",
    "print(\"Table of \",t,\" using while loop\")\n",
    "n=int(input(\"Enter number of rows for the table\"))\n",
    "i=1;\n",
    "print(n)\n",
    "while(i<=n) :\n",
    "    print(t,\" X \",i,\" = \",i*t)\n",
    "    i+=1\n",
    "print (\"****************************\")\n",
    "print (\"Lets Try with For Loop Now\")\n",
    "t1=int(input(\"Table of which number you need please:\"))\n",
    "print(\"Table of \",t1,\" using while loop\")\n",
    "n1=int(input(\"Enter number of rows for the table\"))\n",
    "for i in range (1,n1+1):\n",
    "    print(t1,\" X \",i,\" = \",i*t1)"
   ]
  },
  {
   "cell_type": "code",
   "execution_count": 70,
   "id": "4703978d-ca09-419e-af50-d046d3caa212",
   "metadata": {},
   "outputs": [
    {
     "name": "stdout",
     "output_type": "stream",
     "text": [
      "[1, 2, 3, 4, 5, 6, 7, 8, 9, 10, 11, 12, 13, 14, 15, 16, 17, 18, 19, 20, 21, 22, 23, 24, 25, 26, 27, 28, 29, 30, 31, 32, 33, 34, 35, 36, 37, 38, 39, 40, 41, 42, 43, 44, 45, 46, 47, 48, 49, 50, 51, 52, 53, 54, 55, 56, 57, 58, 59, 60, 61, 62, 63, 64, 65, 66, 67, 68, 69, 70, 71, 72, 73, 74, 75, 76, 77, 78, 79, 80, 81, 82, 83, 84, 85, 86, 87, 88, 89, 90, 91, 92, 93, 94, 95, 96, 97, 98, 99, 100]\n",
      "\n",
      "calculating cube using for loop\n",
      "\n",
      "[1, 8, 27, 64, 125, 216, 343, 512, 729, 1000, 1331, 1728, 2197, 2744, 3375, 4096, 4913, 5832, 6859, 8000, 9261, 10648, 12167, 13824, 15625, 17576, 19683, 21952, 24389, 27000, 29791, 32768, 35937, 39304, 42875, 46656, 50653, 54872, 59319, 64000, 68921, 74088, 79507, 85184, 91125, 97336, 103823, 110592, 117649, 125000, 132651, 140608, 148877, 157464, 166375, 175616, 185193, 195112, 205379, 216000, 226981, 238328, 250047, 262144, 274625, 287496, 300763, 314432, 328509, 343000, 357911, 373248, 389017, 405224, 421875, 438976, 456533, 474552, 493039, 512000, 531441, 551368, 571787, 592704, 614125, 636056, 658503, 681472, 704969, 729000, 753571, 778688, 804357, 830584, 857375, 884736, 912673, 941192, 970299, 1000000]\n",
      "\n",
      "calculating cube using while loop\n",
      "\n",
      "[1, 8, 27, 64, 125, 216, 343, 512, 729, 1000, 1331, 1728, 2197, 2744, 3375, 4096, 4913, 5832, 6859, 8000, 9261, 10648, 12167, 13824, 15625, 17576, 19683, 21952, 24389, 27000, 29791, 32768, 35937, 39304, 42875, 46656, 50653, 54872, 59319, 64000, 68921, 74088, 79507, 85184, 91125, 97336, 103823, 110592, 117649, 125000, 132651, 140608, 148877, 157464, 166375, 175616, 185193, 195112, 205379, 216000, 226981, 238328, 250047, 262144, 274625, 287496, 300763, 314432, 328509, 343000, 357911, 373248, 389017, 405224, 421875, 438976, 456533, 474552, 493039, 512000, 531441, 551368, 571787, 592704, 614125, 636056, 658503, 681472, 704969, 729000, 753571, 778688, 804357, 830584, 857375, 884736, 912673, 941192, 970299, 1000000]\n",
      "\n",
      "Cube of these numbers is divisble by 4\n",
      "\n",
      "[2, 4, 6, 8, 10, 12, 14, 16, 18, 20, 22, 24, 26, 28, 30, 32, 34, 36, 38, 40, 42, 44, 46, 48, 50, 52, 54, 56, 58, 60, 62, 64, 66, 68, 70, 72, 74, 76, 78, 80, 82, 84, 86, 88, 90, 92, 94, 96, 98, 100]\n",
      "\n",
      "Cube of these numbers is divisble by 5\n",
      "\n",
      "[5, 10, 15, 20, 25, 30, 35, 40, 45, 50, 55, 60, 65, 70, 75, 80, 85, 90, 95, 100]\n",
      "\n",
      "Cube of these numbers is divisble by 4 or 5\n",
      "\n",
      "[2, 4, 5, 6, 8, 10, 12, 14, 15, 16, 18, 20, 22, 24, 25, 26, 28, 30, 32, 34, 35, 36, 38, 40, 42, 44, 45, 46, 48, 50, 52, 54, 55, 56, 58, 60, 62, 64, 65, 66, 68, 70, 72, 74, 75, 76, 78, 80, 82, 84, 85, 86, 88, 90, 92, 94, 95, 96, 98, 100]\n"
     ]
    }
   ],
   "source": [
    "\"\"\"Create a list of numbers from 1 to 100. Use for loop and while loop to calculate the cube of each\n",
    "number and if the cube of that number is divisible by 4 or 5 then append that number in a list and print\n",
    "that list.\"\"\"\n",
    "l=[]\n",
    "for i in range(1,101):\n",
    "    l.append(i)\n",
    "#show created list\n",
    "print (l)\n",
    "print(\"\\ncalculating cube using for loop\\n\")\n",
    "res=[]\n",
    "for i in l :\n",
    "    res.append(i*i*i)\n",
    "print(res)\n",
    "\n",
    "print(\"\\ncalculating cube using while loop\\n\")\n",
    "\n",
    "i=1\n",
    "res2=[]\n",
    "while (i<=100) :\n",
    "    res2.append(i*i*i)\n",
    "    i+=1\n",
    "print(res2)\n",
    "\n",
    "print(\"\\nCube of these numbers is divisble by 4\\n\")\n",
    "res3=[]\n",
    "for i in l:    \n",
    "    \n",
    "    if(((i*i*i*i)%4)==0):\n",
    "        res3.append(i)\n",
    "print(res3)\n",
    "print(\"\\nCube of these numbers is divisble by 5\\n\")\n",
    "res3=[]\n",
    "for i in l:    \n",
    "    \n",
    "    if((i*i*i)%5==0):\n",
    "        res3.append(i)\n",
    "print(res3)\n",
    "print(\"\\nCube of these numbers is divisble by 4 or 5\\n\")\n",
    "res3=[]\n",
    "for i in l:    \n",
    "    \n",
    "    if(((i*i*i*i)%4)==0 or (i*i*i)%5==0):\n",
    "        res3.append(i)\n",
    "print(res3)\n"
   ]
  },
  {
   "cell_type": "code",
   "execution_count": 1,
   "id": "5e92367d-c688-4b8c-aa52-b7c1233bbf46",
   "metadata": {},
   "outputs": [
    {
     "name": "stdin",
     "output_type": "stream",
     "text": [
      "Hi, Let me count vowels in a string for you. Please Enter a Line\n",
      " I want to become a data Scientist\n"
     ]
    },
    {
     "name": "stdout",
     "output_type": "stream",
     "text": [
      "{'a': 4, 'e': 3, 'i': 3, 'o': 2, 'u': 0}\n"
     ]
    },
    {
     "name": "stdin",
     "output_type": "stream",
     "text": [
      "Type yes to see case wise\n",
      " yes\n"
     ]
    },
    {
     "name": "stdout",
     "output_type": "stream",
     "text": [
      "{'a': 4, 'e': 3, 'i': 2, 'o': 2, 'u': 0, 'A': 0, 'E': 0, 'I': 1, 'O': 0, 'U': 0}\n"
     ]
    }
   ],
   "source": [
    "\"\"\"Write a program to filter count vowels in the below-given string.\n",
    "\n",
    "string = \"I want to become a data scientist\" \"\"\"\n",
    "\n",
    "user_input=input(\"Hi, Let me count vowels in a string for you. Please Enter a Line\\n\")\n",
    "user_input1=user_input.casefold()\n",
    "vowel=('aeiou')\n",
    "vowels=('aeiouAEIOU')\n",
    "count = {}.fromkeys(vowel,0)\n",
    "\n",
    "for alphabet in user_input1 :\n",
    "    if alphabet in vowel:\n",
    "        count[alphabet]+=1\n",
    "print (count)\n",
    "input=input(\"Type yes to see case wise\\n\")\n",
    "input=input.casefold()\n",
    "if(input=='yes'):\n",
    "    string1=user_input\n",
    "    count1 = {}.fromkeys(vowels,0)\n",
    "    for alphabets in string1 :\n",
    "        if alphabets in vowels:\n",
    "            count1[alphabets]+=1\n",
    "print (count1)"
   ]
  },
  {
   "cell_type": "code",
   "execution_count": null,
   "id": "264cf553-dab7-4a4b-bed8-0913649439e5",
   "metadata": {},
   "outputs": [],
   "source": []
  }
 ],
 "metadata": {
  "kernelspec": {
   "display_name": "Python 3 (ipykernel)",
   "language": "python",
   "name": "python3"
  },
  "language_info": {
   "codemirror_mode": {
    "name": "ipython",
    "version": 3
   },
   "file_extension": ".py",
   "mimetype": "text/x-python",
   "name": "python",
   "nbconvert_exporter": "python",
   "pygments_lexer": "ipython3",
   "version": "3.10.8"
  }
 },
 "nbformat": 4,
 "nbformat_minor": 5
}
