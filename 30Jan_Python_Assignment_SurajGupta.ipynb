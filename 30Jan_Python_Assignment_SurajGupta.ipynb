{
 "cells": [
  {
   "cell_type": "code",
   "execution_count": 11,
   "id": "a0f257e0-4a4b-43d7-a279-2352bcfa17f2",
   "metadata": {},
   "outputs": [
    {
     "name": "stdin",
     "output_type": "stream",
     "text": [
      "Enter Marks in Percentage 99\n"
     ]
    },
    {
     "name": "stdout",
     "output_type": "stream",
     "text": [
      "Congratulations, you've scored A grade. Keep up good work\n"
     ]
    }
   ],
   "source": [
    "#Write a program to accept percentage from the user and display the grade according to the following \n",
    "\n",
    "user_input=int(input(\"Enter Marks in Percentage\\n\"))\n",
    "if(user_input<0) :\n",
    "               \n",
    "               print(\"Enter a positive number\")\n",
    "elif(user_input>90 and user_input <=100):\n",
    "               print(\"Congratulations, you've scored A grade. Keep up good work\")\n",
    "elif(user_input>80 and user_input <=90):\n",
    "               print(\"Congratulations, you've scored B grade. Try to push more\")\n",
    "elif(user_input>60 and user_input <=80):\n",
    "               print(\"Hey, you've scored C grade. You should daily devote 2 hours to your studies to achieve better grades. Good Luck\") \n",
    "elif(user_input<=60):\n",
    "               print(\"D Grade. Better Luck Next Time\")\n",
    "elif(user_input>100):\n",
    "               print(\"Please input val;ue between 0-100\")\n",
    "               "
   ]
  },
  {
   "cell_type": "code",
   "execution_count": 26,
   "id": "08fc69b1-8925-4a6e-a9d9-8dd1d7ef4e7f",
   "metadata": {},
   "outputs": [
    {
     "name": "stdin",
     "output_type": "stream",
     "text": [
      "Enter Cost in Vehicle\n",
      " 50001\n"
     ]
    },
    {
     "name": "stdout",
     "output_type": "stream",
     "text": [
      "Total Tax to be paid is  5000.1  i.e. ( 10 %) of the vehicle cost\n"
     ]
    }
   ],
   "source": [
    "# Write a program to accept the cost price of a bike and display the road tax to be paid\n",
    "\n",
    "user_input=int(input(\"Enter Cost in Vehicle\\n\"))\n",
    "tax=0\n",
    "if(user_input<0) :\n",
    "               \n",
    "               print(\"Enter a positive number\")\n",
    "elif(user_input>100000):\n",
    "               tax=15\n",
    "elif(user_input>50000 and user_input <=100000):\n",
    "               tax=10\n",
    "elif(user_input<=50000):\n",
    "               tax=5\n",
    "\n",
    "total=(user_input*tax)/100\n",
    "print(\"Total Tax to be paid is \",total,\" i.e. (\",tax,\"%) of the vehicle cost\")\n"
   ]
  },
  {
   "cell_type": "code",
   "execution_count": 36,
   "id": "3a4b74d1-09a8-4d2d-bbc1-c328cf187b11",
   "metadata": {},
   "outputs": [
    {
     "name": "stdout",
     "output_type": "stream",
     "text": [
      "I can help you with the monuments of below cities\n",
      " Type 1 for Delhi\n",
      " Type 2 for Agra\n",
      " Type 3 for Jaipur\n",
      "\n"
     ]
    },
    {
     "name": "stdin",
     "output_type": "stream",
     "text": [
      "Let me know in which city you are interested in 3\n"
     ]
    },
    {
     "name": "stdout",
     "output_type": "stream",
     "text": [
      "Jal Mahal\n"
     ]
    }
   ],
   "source": [
    "#Accept any city from the user and display monuments of that city. \n",
    "\n",
    "print(\"I can help you with the monuments of below cities\\n Type 1 for Delhi\\n Type 2 for Agra\\n Type 3 for Jaipur\\n\")\n",
    "city=int(input(\"Let me know in which city you are interested in\"))\n",
    "if(city==1):\n",
    "    print(\"Red Fort\")\n",
    "elif(city==2):\n",
    "        print(\"Taj Mahal\")\n",
    "elif(city==3):\n",
    "            print(\"Jal Mahal\")\n",
    "else:\n",
    "    print(\"Please input between 1 to 3\")"
   ]
  },
  {
   "cell_type": "code",
   "execution_count": 49,
   "id": "c1174746-83e6-4e9d-83bb-c4b45a6c513f",
   "metadata": {},
   "outputs": [
    {
     "name": "stdout",
     "output_type": "stream",
     "text": [
      "Printing 10 to 1 using while loop\n",
      "10\n",
      "9\n",
      "8\n",
      "7\n",
      "6\n",
      "5\n",
      "4\n",
      "3\n",
      "2\n",
      "1\n"
     ]
    }
   ],
   "source": [
    "#reverse a while loop to print 10 - 1\n",
    "print(\"Printing 10 to 1 using while loop\")\n",
    "i=10\n",
    "while(i>=1):\n",
    "    print(i)\n",
    "    i-=1\n",
    "    "
   ]
  },
  {
   "cell_type": "code",
   "execution_count": 48,
   "id": "eaf22b1f-b5ae-4448-9c13-f295dd825715",
   "metadata": {},
   "outputs": [
    {
     "name": "stdout",
     "output_type": "stream",
     "text": [
      "Printing 10 to 1 using for loop\n",
      "10\n",
      "9\n",
      "8\n",
      "7\n",
      "6\n",
      "5\n",
      "4\n",
      "3\n",
      "2\n",
      "1\n"
     ]
    }
   ],
   "source": [
    "#reverse a for loop to print 10 - 1\n",
    "\n",
    "print(\"Printing 10 to 1 using for loop\")\n",
    "for i in range(10,0,-1):\n",
    "    print (i)\n",
    "    "
   ]
  },
  {
   "cell_type": "code",
   "execution_count": 79,
   "id": "4a1135fe-f0ca-46e5-96e1-d9a3925b7280",
   "metadata": {},
   "outputs": [
    {
     "name": "stdin",
     "output_type": "stream",
     "text": [
      "Enter a number 999\n"
     ]
    },
    {
     "name": "stdout",
     "output_type": "stream",
     "text": [
      "1 )  999  /  3 = 333.0\n",
      "2 )  333.0  /  3 = 111.0\n",
      "3 )  111.0  /  3 = 37.0\n",
      "\n",
      "This number is  3 times divisible by 3 before it reaches 10 or lower\n"
     ]
    }
   ],
   "source": [
    "# check how many times a number is divisible by 3\n",
    "number = int(input(\"Enter a number\"))\n",
    "count=0;\n",
    "if(number>=10):\n",
    "    while((number%3)==0):\n",
    "        count+=1\n",
    "        print(count,\") \",number,\" / \", 3 ,\"=\", number/3)\n",
    "        number = number/3\n",
    "        \n",
    "        if(number<=10):\n",
    "            break\n",
    "    print(\"\\nThis number is \",count,\"times divisible by 3 before it reaches 10 or lower\")\n",
    "else:\n",
    "    print(\"Please enter a number greater than 10\")\n",
    "    \n",
    "    \n",
    "\n"
   ]
  },
  {
   "cell_type": "code",
   "execution_count": 80,
   "id": "7073143f-979b-4726-97c9-58a68025b296",
   "metadata": {},
   "outputs": [
    {
     "name": "stdin",
     "output_type": "stream",
     "text": [
      "Enter number of rows :  4\n"
     ]
    },
    {
     "name": "stdout",
     "output_type": "stream",
     "text": [
      "* \n",
      "* * \n",
      "* * * \n",
      "* * * * \n"
     ]
    }
   ],
   "source": [
    "#Pattern 1 using nesgted while\n",
    "\n",
    "n = int(input('Enter number of rows : '))\n",
    " \n",
    "i = 1\n",
    "while i <= n :\n",
    "    j = 1\n",
    "    while j <= i:\n",
    "        print(\"*\", end = \" \")\n",
    "        j += 1\n",
    "    print()\n",
    "    i += 1"
   ]
  },
  {
   "cell_type": "code",
   "execution_count": 1,
   "id": "23be6cdf-055f-488b-a680-822ef056f3db",
   "metadata": {},
   "outputs": [
    {
     "name": "stdin",
     "output_type": "stream",
     "text": [
      "Enter number of rows :  4\n"
     ]
    },
    {
     "name": "stdout",
     "output_type": "stream",
     "text": [
      "* * * * \n",
      "* * * \n",
      "* * \n",
      "* \n"
     ]
    }
   ],
   "source": [
    "#pattern 2 using nested while\n",
    "\n",
    "n = int(input('Enter number of rows : '))\n",
    " \n",
    "i = 1\n",
    "while i <= n :\n",
    "    j = n\n",
    "    while j >= i:\n",
    "        print(\"*\", end = \" \")\n",
    "        j -= 1\n",
    "    print()\n",
    "    i += 1"
   ]
  },
  {
   "cell_type": "code",
   "execution_count": 2,
   "id": "95da7c64-a941-4acf-8192-3360572b3bbe",
   "metadata": {},
   "outputs": [
    {
     "name": "stdin",
     "output_type": "stream",
     "text": [
      "Enter number of rows :  4\n"
     ]
    },
    {
     "name": "stdout",
     "output_type": "stream",
     "text": [
      "  1 \n",
      "  2   3 \n",
      "  4   5   6 \n",
      "  7   8   9  10 \n"
     ]
    }
   ],
   "source": [
    "#pattern 3 using nested while\n",
    "\n",
    "n = int(input('Enter number of rows : '))\n",
    " \n",
    "k = 1\n",
    "i = 1\n",
    "while i <= n :\n",
    "    j = 1\n",
    "    while j <= i:\n",
    "        print(\"{:3d}\".format(k), end = \" \")\n",
    "        j += 1\n",
    "        k += 1\n",
    "    print()\n",
    "    i += 1"
   ]
  },
  {
   "cell_type": "code",
   "execution_count": 3,
   "id": "40c196a0-476f-4490-abcb-4c90f54c6c17",
   "metadata": {},
   "outputs": [
    {
     "name": "stdout",
     "output_type": "stream",
     "text": [
      "*  \n",
      "* *  \n",
      "* * *  \n",
      "* * * *  \n",
      "* * * * *  \n",
      "* * * * * *  \n",
      " \n",
      "* * * * * *  \n",
      "* * * * *  \n",
      "* * * *  \n",
      "* * *  \n",
      "* *  \n",
      "*  \n",
      " \n"
     ]
    }
   ],
   "source": [
    "#two pyramid of stars\n",
    "\n",
    "rows = 6\n",
    "for i in range(0, rows):\n",
    "    for j in range(0, i + 1):\n",
    "        print(\"*\", end=' ')\n",
    "    print(\" \")\n",
    "\n",
    "print(\" \")\n",
    "\n",
    "for i in range(rows + 1, 0, -1):\n",
    "    for j in range(0, i - 1):\n",
    "        print(\"*\", end=' ')\n",
    "    print(\" \")"
   ]
  },
  {
   "cell_type": "code",
   "execution_count": 7,
   "id": "3dcf0831-11f9-4803-85ec-46301c3a1000",
   "metadata": {},
   "outputs": [
    {
     "name": "stdout",
     "output_type": "stream",
     "text": [
      "1\n",
      "2\n",
      "3\n",
      "4\n",
      "5\n"
     ]
    }
   ],
   "source": [
    "\"\"\"Why and when to use while loop\n",
    "\n",
    "Python while loop is used to run a block code until a certain condition is met. The syntax of while loop is:\n",
    "    while(condition):\n",
    "        #body of while loop\n",
    "\n",
    "Here,\n",
    "\n",
    "A while loop evaluates the condition\n",
    "If the condition evaluates to True, the code inside the while loop is executed.\n",
    "condition is evaluated again.\n",
    "This process continues until the condition is False.\n",
    "When condition evaluates to False, the loop stops.\n",
    "\n",
    "Example: \"\"\"\n",
    "i = 1\n",
    "n = 5\n",
    "\n",
    "# while loop from i = 1 to 5\n",
    "while i <= n:\n",
    "    print(i)\n",
    "    i = i + 1\n",
    "    "
   ]
  },
  {
   "cell_type": "code",
   "execution_count": 9,
   "id": "3a631173-5e51-4b9c-9025-40207aa2783d",
   "metadata": {},
   "outputs": [],
   "source": [
    "#In the above example, the while iterates until the user enters zero. When the user enters zero, the test condition evaluates to False and the loop ends."
   ]
  }
 ],
 "metadata": {
  "kernelspec": {
   "display_name": "Python 3 (ipykernel)",
   "language": "python",
   "name": "python3"
  },
  "language_info": {
   "codemirror_mode": {
    "name": "ipython",
    "version": 3
   },
   "file_extension": ".py",
   "mimetype": "text/x-python",
   "name": "python",
   "nbconvert_exporter": "python",
   "pygments_lexer": "ipython3",
   "version": "3.10.8"
  }
 },
 "nbformat": 4,
 "nbformat_minor": 5
}
