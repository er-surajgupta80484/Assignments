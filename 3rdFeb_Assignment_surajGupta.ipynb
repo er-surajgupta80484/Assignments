{
 "cells": [
  {
   "cell_type": "code",
   "execution_count": 18,
   "id": "93728665-b04e-46cc-829e-ebd971b559cf",
   "metadata": {},
   "outputs": [
    {
     "name": "stdin",
     "output_type": "stream",
     "text": [
      "Enter starting point: 1\n",
      "Enter Ending point: 26\n"
     ]
    },
    {
     "name": "stdout",
     "output_type": "stream",
     "text": [
      "odd numbers between  1  &  26  are\n"
     ]
    },
    {
     "data": {
      "text/plain": [
       "[1, 3, 5, 7, 9, 11, 13, 15, 17, 19, 21, 23, 25]"
      ]
     },
     "execution_count": 18,
     "metadata": {},
     "output_type": "execute_result"
    }
   ],
   "source": [
    "#Q:1 Which keyword is used to create a function? Create a function to return a list of odd numbers in the range of 1 to 25\n",
    "def odds(a,b):\n",
    "    l=[]\n",
    "    print(\"odd numbers between \",a,\" & \",b,\" are\")\n",
    "    for i in range(a,b):\n",
    "        if(i%2==1):\n",
    "            l.append(i)\n",
    "    return(l)\n",
    "start=int(input(\"Enter starting point:\"))\n",
    "end=int(input(\"Enter Ending point:\"))\n",
    "odds(start,end)\n"
   ]
  },
  {
   "cell_type": "code",
   "execution_count": 33,
   "id": "f4ce323b-9a05-4275-8fda-bbb9d75d3063",
   "metadata": {},
   "outputs": [
    {
     "name": "stdout",
     "output_type": "stream",
     "text": [
      "Hello\n",
      "Welcome\n",
      "to\n",
      "args function\n",
      "\n",
      "Now **kwargs\n",
      "************\n",
      "\n",
      "first == SurajGupta\n",
      "mid == is learning\n",
      "last == Data Science\n",
      "\n",
      "Now ** Args and kwargs both\n",
      "***************************\n",
      "\n",
      "args:  ('Suraj', 'Gupta', 'LearnsDataScience')\n",
      "kwargs:  {'first': 'Suraj', 'mid': 'Gupta', 'last': 'ToBeDataScientist'}\n"
     ]
    }
   ],
   "source": [
    "\"\"\"Q:2 Why *args and **kwargs is used in some functions? Create a function each for *args and **kwargs to demonstrate their use\n",
    "    \n",
    "   *args is used when we dont want to bother about the number of parameters that user wants to input. These are called non keyword arguments.\n",
    "   **kwargs is known as keyword arguments means key value paired and generally the oitput of kwargs is a dictionary\n",
    "    \"\"\"\n",
    "\n",
    "#Args demonstration\n",
    "def myFun(*argv):\n",
    "    for arg in argv:\n",
    "        print(arg)\n",
    " \n",
    " \n",
    "myFun('Hello', 'Welcome', 'to', 'args function')\n",
    "\n",
    "print(\"\\nNow **kwargs\\n************\\n\")\n",
    "\n",
    "def myFun(**kwargs):\n",
    "    for key, value in kwargs.items():\n",
    "        print(\"%s == %s\" % (key, value))\n",
    " \n",
    " \n",
    "# Driver code\n",
    "myFun(first='SurajGupta', mid='is learning', last='Data Science')\n",
    "\n",
    "print(\"\\nNow ** Args and kwargs both\\n***************************\\n\")\n",
    "\n",
    "def myFun(*args, **kwargs):\n",
    "    print(\"args: \", args)\n",
    "    print(\"kwargs: \", kwargs)\n",
    " \n",
    " \n",
    "# Now we can use both *args ,**kwargs\n",
    "# to pass arguments to this function :\n",
    "myFun('Suraj', 'Gupta', 'LearnsDataScience', first=\"Suraj\", mid=\"Gupta\", last=\"ToBeDataScientist\")\n",
    "  "
   ]
  },
  {
   "cell_type": "code",
   "execution_count": 22,
   "id": "1ca1f996-603d-47d8-ba86-fdcbfc3a69c1",
   "metadata": {},
   "outputs": [
    {
     "name": "stdout",
     "output_type": "stream",
     "text": [
      "Iterator: An object which on which can be iterated but an object can only become iterator if it is iterable by default. Technically, in Python, \n",
      "an iterator is an object which implements the iterator protocol, which consist of the methods __iter__() and __next__() . \n",
      "\n",
      "To convert string(iterable) to an iterator, we need to use (iter) function, Lets look at an example\n",
      "str='abc' --> Iterable but not iterator yet\n",
      "c=iter(str) --> Now the str is iterator\n",
      "\n",
      "Now, Lets Print 1st 5 elements of the any given list\n",
      "Given List [2, 4, 6, 8, 10, 12, 14, 16, 18, 20]\n",
      "1st 5 elements of a given list using iterator concept\n",
      "2\n",
      "4\n",
      "6\n",
      "8\n",
      "10\n"
     ]
    }
   ],
   "source": [
    "Q:3 \"\"\"What is an iterator in python? Name the method used to initialise the iterator object and the method\n",
    "used for iteration. Use these methods to print the first five elements of the given list [2, 4, 6, 8, 10, 12, 14,\n",
    "16, 18, 20].\"\"\"\n",
    "\n",
    "print('''Iterator: An object which on which can be iterated but an object can only become iterator if it is iterable by default. Technically, in Python, \n",
    "an iterator is an object which implements the iterator protocol, which consist of the methods __iter__() and __next__() . \\n\n",
    "To convert string(iterable) to an iterator, we need to use (iter) function, Lets look at an example\n",
    "str='abc' --> Iterable but not iterator yet\n",
    "c=iter(str) --> Now the str is iterator\\n''')\n",
    "\n",
    "print(\"Now, Lets Print 1st 5 elements of the any given list\")\n",
    "l=[2, 4, 6, 8, 10, 12, 14,\n",
    "16, 18, 20]\n",
    "print(\"Given List\",l)\n",
    "n=len(l)\n",
    "l=(iter(l))\n",
    "print(\"1st 5 elements of a given list using iterator concept\")\n",
    "for i in range(0,5):\n",
    "    print(next(l))"
   ]
  },
  {
   "cell_type": "code",
   "execution_count": 28,
   "id": "cf788a84-063e-467a-8947-6f16926ad2ec",
   "metadata": {},
   "outputs": [
    {
     "name": "stdout",
     "output_type": "stream",
     "text": [
      "A generator function is a function which allows you to declare a function that behaves likes an iterator, allowing programmers to\n",
      "make an iterator in a fast, easy, and clean way\n",
      "\n",
      "Yield Keyword: yield keyword is used to create a generator function and toresume or pause a generator function asynchronously. A generator function is\n",
      "just like a normal function but the difference is that whenever the function is returning any value, it does it with the help of 'yield' keyword \n",
      "instead of return\n",
      "\n",
      "\n",
      "Hello world!!\n",
      "This is an example of a generator function\n"
     ]
    }
   ],
   "source": [
    "#Q:4 What is a generator function in python? Why yield keyword is used? Give an example of a generator function.\n",
    "\n",
    "print('''A generator function is a function which allows you to declare a function that behaves likes an iterator, allowing programmers to\n",
    "make an iterator in a fast, easy, and clean way\\n\n",
    "Yield Keyword: yield keyword is used to create a generator function and toresume or pause a generator function asynchronously. A generator function is\n",
    "just like a normal function but the difference is that whenever the function is returning any value, it does it with the help of 'yield' keyword \n",
    "instead of return\\n\\n''')\n",
    "\n",
    "def fun_generator():\n",
    "    yield \"Hello world!!\"\n",
    "    yield \"This is an example of a generator function\"\n",
    " \n",
    " \n",
    "obj = fun_generator()\n",
    " \n",
    "print(next(obj))\n",
    "print(next(obj))"
   ]
  },
  {
   "cell_type": "code",
   "execution_count": 89,
   "id": "2b6d440a-b13a-4840-ae9d-ea60898a6651",
   "metadata": {},
   "outputs": [
    {
     "name": "stdout",
     "output_type": "stream",
     "text": [
      "Prime Number  1  is 2\n",
      "Prime Number  2  is 3\n",
      "Prime Number  3  is 5\n",
      "Prime Number  4  is 7\n",
      "Prime Number  5  is 11\n",
      "Prime Number  6  is 13\n",
      "Prime Number  7  is 17\n",
      "Prime Number  8  is 19\n",
      "Prime Number  9  is 23\n",
      "Prime Number  10  is 29\n",
      "Prime Number  11  is 31\n",
      "Prime Number  12  is 37\n",
      "Prime Number  13  is 41\n",
      "Prime Number  14  is 43\n",
      "Prime Number  15  is 47\n",
      "Prime Number  16  is 53\n",
      "Prime Number  17  is 59\n",
      "Prime Number  18  is 61\n",
      "Prime Number  19  is 67\n",
      "Prime Number  20  is 71\n"
     ]
    }
   ],
   "source": [
    "#Q:5 Create a generator function for prime numbers less than 1000. Use the next() method to print the first 20 prime numbers.\n",
    "\n",
    "def prime(n):\n",
    "    i = 2\n",
    "    while i < n :\n",
    "        prime = True # reset the `prime` variable before the inner loop\n",
    "        for a in range(2, i):\n",
    "            if i%a == 0:\n",
    "                prime = False\n",
    "                break\n",
    "        if prime:    \n",
    "            yield i\n",
    "        i += 1\n",
    "obj=prime(1001)\n",
    "\n",
    "for i in range(1,21):\n",
    "    print(\"Prime Number \",i,\" is\",next(obj))\n",
    "    "
   ]
  },
  {
   "cell_type": "code",
   "execution_count": 9,
   "id": "a71eb63b-ea4e-4fd8-9771-5adc774a0172",
   "metadata": {},
   "outputs": [
    {
     "name": "stdin",
     "output_type": "stream",
     "text": [
      "Enter how many numbers:  10\n"
     ]
    },
    {
     "name": "stdout",
     "output_type": "stream",
     "text": [
      "Element 1 in Fabonacci series is  0\n",
      "Element 2 in Fabonacci series is  1\n",
      "Element 3 in Fabonacci series is  1\n",
      "Element 4 in Fabonacci series is  2\n",
      "Element 5 in Fabonacci series is  3\n",
      "Element 6 in Fabonacci series is  5\n",
      "Element 7 in Fabonacci series is  8\n",
      "Element 8 in Fabonacci series is  13\n",
      "Element 9 in Fabonacci series is  21\n",
      "Element 10 in Fabonacci series is  34\n"
     ]
    }
   ],
   "source": [
    "#Q:6 Write a python program to print the first 10 Fibonacci numbers using a while loop.\n",
    "a,b=0,1\n",
    "c=0\n",
    "i=0\n",
    "n=int(input(\"Enter how many numbers: \"))\n",
    "while(i<n) :\n",
    "      print(\"Element\",i+1,\"in Fabonacci series is \",a)\n",
    "      c=a+b\n",
    "      a=b\n",
    "      b=c\n",
    "      i+=1\n",
    "    \n",
    " \n",
    "      "
   ]
  },
  {
   "cell_type": "code",
   "execution_count": 14,
   "id": "a682df37-1bee-4536-85c9-0d00379a2b53",
   "metadata": {},
   "outputs": [
    {
     "name": "stdin",
     "output_type": "stream",
     "text": [
      "Enter a string pwskills\n"
     ]
    },
    {
     "name": "stdout",
     "output_type": "stream",
     "text": [
      "['p', 'w', 's', 'k', 'i', 'l', 'l', 's']\n"
     ]
    }
   ],
   "source": [
    "#Q:7 Write a List Comprehension to iterate through the given string: ‘pwskills’.\n",
    "#Expected output: ['p', 'w', 's', 'k', 'i', 'l', 'l', 's'] \n",
    "\n",
    "str=input(\"Enter a string\")\n",
    "l1=[i for i in str]\n",
    "\n",
    "print(l1)"
   ]
  },
  {
   "cell_type": "code",
   "execution_count": 22,
   "id": "90d07034-f673-4eca-91b9-050b15a65302",
   "metadata": {},
   "outputs": [
    {
     "name": "stdin",
     "output_type": "stream",
     "text": [
      "Enter a number:  101\n"
     ]
    },
    {
     "name": "stdout",
     "output_type": "stream",
     "text": [
      "The number is palindrome!\n"
     ]
    }
   ],
   "source": [
    "# Q:8 Write a python program to check whether a given number is Palindrome or not using a while loop.\n",
    "\n",
    "num=int(input(\"Enter a number: \"))\n",
    "rev=0\n",
    "temp=num\n",
    "\n",
    "while(num>0):\n",
    "    dig=num%10\n",
    "    rev=rev*10+dig\n",
    "    \n",
    "    num=num//10\n",
    "    \n",
    "if(temp==rev):\n",
    "    print(\"The number is palindrome!\")\n",
    "else:\n",
    "    print(\"Not a palindrome!\")\n",
    "    "
   ]
  },
  {
   "cell_type": "code",
   "execution_count": 30,
   "id": "031a5a19-aca5-4fb4-a86e-e10ff098e6b4",
   "metadata": {},
   "outputs": [
    {
     "name": "stdout",
     "output_type": "stream",
     "text": [
      "[1, 3, 5, 7, 9, 11, 13, 15, 17, 19, 21, 23, 25, 27, 29, 31, 33, 35, 37, 39, 41, 43, 45, 47, 49, 51, 53, 55, 57, 59, 61, 63, 65, 67, 69, 71, 73, 75, 77, 79, 81, 83, 85, 87, 89, 91, 93, 95, 97, 99]\n"
     ]
    }
   ],
   "source": [
    "#Q:9 Write a code to print odd numbers from 1 to 100 using list comprehension.\n",
    "\n",
    "\n",
    "l=[i for i in range(1,101,2)]\n",
    "print(l)\n",
    "    "
   ]
  },
  {
   "cell_type": "code",
   "execution_count": 82,
   "id": "48296836-d493-4631-8924-71dccb406597",
   "metadata": {},
   "outputs": [],
   "source": [
    "for i in range(1,1):\n",
    "    "
   ]
  }
 ],
 "metadata": {
  "kernelspec": {
   "display_name": "Python 3 (ipykernel)",
   "language": "python",
   "name": "python3"
  },
  "language_info": {
   "codemirror_mode": {
    "name": "ipython",
    "version": 3
   },
   "file_extension": ".py",
   "mimetype": "text/x-python",
   "name": "python",
   "nbconvert_exporter": "python",
   "pygments_lexer": "ipython3",
   "version": "3.10.8"
  }
 },
 "nbformat": 4,
 "nbformat_minor": 5
}
